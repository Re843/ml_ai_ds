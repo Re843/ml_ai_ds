{
  "nbformat": 4,
  "nbformat_minor": 0,
  "metadata": {
    "colab": {
      "provenance": [],
      "authorship_tag": "ABX9TyM97RqOfOLBiQJvBWj+V7gW",
      "include_colab_link": true
    },
    "kernelspec": {
      "name": "python3",
      "display_name": "Python 3"
    },
    "language_info": {
      "name": "python"
    },
    "widgets": {
      "application/vnd.jupyter.widget-state+json": {
        "a9b0dc9d1be94507afd70d871a56d481": {
          "model_module": "@jupyter-widgets/controls",
          "model_name": "HBoxModel",
          "model_module_version": "1.5.0",
          "state": {
            "_dom_classes": [],
            "_model_module": "@jupyter-widgets/controls",
            "_model_module_version": "1.5.0",
            "_model_name": "HBoxModel",
            "_view_count": null,
            "_view_module": "@jupyter-widgets/controls",
            "_view_module_version": "1.5.0",
            "_view_name": "HBoxView",
            "box_style": "",
            "children": [
              "IPY_MODEL_b1a09b6eab954f508d0940b529c6726d",
              "IPY_MODEL_c264c46ed8894b48bdb805bdbdbbd40f",
              "IPY_MODEL_919580ea4dac4e88b895fd3b930d88b1"
            ],
            "layout": "IPY_MODEL_084ede50f6ab483c8024bd0fc49e321c"
          }
        },
        "b1a09b6eab954f508d0940b529c6726d": {
          "model_module": "@jupyter-widgets/controls",
          "model_name": "HTMLModel",
          "model_module_version": "1.5.0",
          "state": {
            "_dom_classes": [],
            "_model_module": "@jupyter-widgets/controls",
            "_model_module_version": "1.5.0",
            "_model_name": "HTMLModel",
            "_view_count": null,
            "_view_module": "@jupyter-widgets/controls",
            "_view_module_version": "1.5.0",
            "_view_name": "HTMLView",
            "description": "",
            "description_tooltip": null,
            "layout": "IPY_MODEL_5edf80b5eae04f9291b29d244c98bdff",
            "placeholder": "​",
            "style": "IPY_MODEL_e73bdbb4c71c459d849757304996df50",
            "value": "config.json: 100%"
          }
        },
        "c264c46ed8894b48bdb805bdbdbbd40f": {
          "model_module": "@jupyter-widgets/controls",
          "model_name": "FloatProgressModel",
          "model_module_version": "1.5.0",
          "state": {
            "_dom_classes": [],
            "_model_module": "@jupyter-widgets/controls",
            "_model_module_version": "1.5.0",
            "_model_name": "FloatProgressModel",
            "_view_count": null,
            "_view_module": "@jupyter-widgets/controls",
            "_view_module_version": "1.5.0",
            "_view_name": "ProgressView",
            "bar_style": "success",
            "description": "",
            "description_tooltip": null,
            "layout": "IPY_MODEL_70f547e54382494a83d7c3c26c87ada2",
            "max": 629,
            "min": 0,
            "orientation": "horizontal",
            "style": "IPY_MODEL_f6f4533479c7496da76daad2e40edbf9",
            "value": 629
          }
        },
        "919580ea4dac4e88b895fd3b930d88b1": {
          "model_module": "@jupyter-widgets/controls",
          "model_name": "HTMLModel",
          "model_module_version": "1.5.0",
          "state": {
            "_dom_classes": [],
            "_model_module": "@jupyter-widgets/controls",
            "_model_module_version": "1.5.0",
            "_model_name": "HTMLModel",
            "_view_count": null,
            "_view_module": "@jupyter-widgets/controls",
            "_view_module_version": "1.5.0",
            "_view_name": "HTMLView",
            "description": "",
            "description_tooltip": null,
            "layout": "IPY_MODEL_7d7d9a23d1994511b9ea526c28d85a34",
            "placeholder": "​",
            "style": "IPY_MODEL_c68af4cb281a43128907dd2ce526786d",
            "value": " 629/629 [00:00&lt;00:00, 8.46kB/s]"
          }
        },
        "084ede50f6ab483c8024bd0fc49e321c": {
          "model_module": "@jupyter-widgets/base",
          "model_name": "LayoutModel",
          "model_module_version": "1.2.0",
          "state": {
            "_model_module": "@jupyter-widgets/base",
            "_model_module_version": "1.2.0",
            "_model_name": "LayoutModel",
            "_view_count": null,
            "_view_module": "@jupyter-widgets/base",
            "_view_module_version": "1.2.0",
            "_view_name": "LayoutView",
            "align_content": null,
            "align_items": null,
            "align_self": null,
            "border": null,
            "bottom": null,
            "display": null,
            "flex": null,
            "flex_flow": null,
            "grid_area": null,
            "grid_auto_columns": null,
            "grid_auto_flow": null,
            "grid_auto_rows": null,
            "grid_column": null,
            "grid_gap": null,
            "grid_row": null,
            "grid_template_areas": null,
            "grid_template_columns": null,
            "grid_template_rows": null,
            "height": null,
            "justify_content": null,
            "justify_items": null,
            "left": null,
            "margin": null,
            "max_height": null,
            "max_width": null,
            "min_height": null,
            "min_width": null,
            "object_fit": null,
            "object_position": null,
            "order": null,
            "overflow": null,
            "overflow_x": null,
            "overflow_y": null,
            "padding": null,
            "right": null,
            "top": null,
            "visibility": null,
            "width": null
          }
        },
        "5edf80b5eae04f9291b29d244c98bdff": {
          "model_module": "@jupyter-widgets/base",
          "model_name": "LayoutModel",
          "model_module_version": "1.2.0",
          "state": {
            "_model_module": "@jupyter-widgets/base",
            "_model_module_version": "1.2.0",
            "_model_name": "LayoutModel",
            "_view_count": null,
            "_view_module": "@jupyter-widgets/base",
            "_view_module_version": "1.2.0",
            "_view_name": "LayoutView",
            "align_content": null,
            "align_items": null,
            "align_self": null,
            "border": null,
            "bottom": null,
            "display": null,
            "flex": null,
            "flex_flow": null,
            "grid_area": null,
            "grid_auto_columns": null,
            "grid_auto_flow": null,
            "grid_auto_rows": null,
            "grid_column": null,
            "grid_gap": null,
            "grid_row": null,
            "grid_template_areas": null,
            "grid_template_columns": null,
            "grid_template_rows": null,
            "height": null,
            "justify_content": null,
            "justify_items": null,
            "left": null,
            "margin": null,
            "max_height": null,
            "max_width": null,
            "min_height": null,
            "min_width": null,
            "object_fit": null,
            "object_position": null,
            "order": null,
            "overflow": null,
            "overflow_x": null,
            "overflow_y": null,
            "padding": null,
            "right": null,
            "top": null,
            "visibility": null,
            "width": null
          }
        },
        "e73bdbb4c71c459d849757304996df50": {
          "model_module": "@jupyter-widgets/controls",
          "model_name": "DescriptionStyleModel",
          "model_module_version": "1.5.0",
          "state": {
            "_model_module": "@jupyter-widgets/controls",
            "_model_module_version": "1.5.0",
            "_model_name": "DescriptionStyleModel",
            "_view_count": null,
            "_view_module": "@jupyter-widgets/base",
            "_view_module_version": "1.2.0",
            "_view_name": "StyleView",
            "description_width": ""
          }
        },
        "70f547e54382494a83d7c3c26c87ada2": {
          "model_module": "@jupyter-widgets/base",
          "model_name": "LayoutModel",
          "model_module_version": "1.2.0",
          "state": {
            "_model_module": "@jupyter-widgets/base",
            "_model_module_version": "1.2.0",
            "_model_name": "LayoutModel",
            "_view_count": null,
            "_view_module": "@jupyter-widgets/base",
            "_view_module_version": "1.2.0",
            "_view_name": "LayoutView",
            "align_content": null,
            "align_items": null,
            "align_self": null,
            "border": null,
            "bottom": null,
            "display": null,
            "flex": null,
            "flex_flow": null,
            "grid_area": null,
            "grid_auto_columns": null,
            "grid_auto_flow": null,
            "grid_auto_rows": null,
            "grid_column": null,
            "grid_gap": null,
            "grid_row": null,
            "grid_template_areas": null,
            "grid_template_columns": null,
            "grid_template_rows": null,
            "height": null,
            "justify_content": null,
            "justify_items": null,
            "left": null,
            "margin": null,
            "max_height": null,
            "max_width": null,
            "min_height": null,
            "min_width": null,
            "object_fit": null,
            "object_position": null,
            "order": null,
            "overflow": null,
            "overflow_x": null,
            "overflow_y": null,
            "padding": null,
            "right": null,
            "top": null,
            "visibility": null,
            "width": null
          }
        },
        "f6f4533479c7496da76daad2e40edbf9": {
          "model_module": "@jupyter-widgets/controls",
          "model_name": "ProgressStyleModel",
          "model_module_version": "1.5.0",
          "state": {
            "_model_module": "@jupyter-widgets/controls",
            "_model_module_version": "1.5.0",
            "_model_name": "ProgressStyleModel",
            "_view_count": null,
            "_view_module": "@jupyter-widgets/base",
            "_view_module_version": "1.2.0",
            "_view_name": "StyleView",
            "bar_color": null,
            "description_width": ""
          }
        },
        "7d7d9a23d1994511b9ea526c28d85a34": {
          "model_module": "@jupyter-widgets/base",
          "model_name": "LayoutModel",
          "model_module_version": "1.2.0",
          "state": {
            "_model_module": "@jupyter-widgets/base",
            "_model_module_version": "1.2.0",
            "_model_name": "LayoutModel",
            "_view_count": null,
            "_view_module": "@jupyter-widgets/base",
            "_view_module_version": "1.2.0",
            "_view_name": "LayoutView",
            "align_content": null,
            "align_items": null,
            "align_self": null,
            "border": null,
            "bottom": null,
            "display": null,
            "flex": null,
            "flex_flow": null,
            "grid_area": null,
            "grid_auto_columns": null,
            "grid_auto_flow": null,
            "grid_auto_rows": null,
            "grid_column": null,
            "grid_gap": null,
            "grid_row": null,
            "grid_template_areas": null,
            "grid_template_columns": null,
            "grid_template_rows": null,
            "height": null,
            "justify_content": null,
            "justify_items": null,
            "left": null,
            "margin": null,
            "max_height": null,
            "max_width": null,
            "min_height": null,
            "min_width": null,
            "object_fit": null,
            "object_position": null,
            "order": null,
            "overflow": null,
            "overflow_x": null,
            "overflow_y": null,
            "padding": null,
            "right": null,
            "top": null,
            "visibility": null,
            "width": null
          }
        },
        "c68af4cb281a43128907dd2ce526786d": {
          "model_module": "@jupyter-widgets/controls",
          "model_name": "DescriptionStyleModel",
          "model_module_version": "1.5.0",
          "state": {
            "_model_module": "@jupyter-widgets/controls",
            "_model_module_version": "1.5.0",
            "_model_name": "DescriptionStyleModel",
            "_view_count": null,
            "_view_module": "@jupyter-widgets/base",
            "_view_module_version": "1.2.0",
            "_view_name": "StyleView",
            "description_width": ""
          }
        },
        "79b672df6bdb4f4caf1c8db5758673b8": {
          "model_module": "@jupyter-widgets/controls",
          "model_name": "HBoxModel",
          "model_module_version": "1.5.0",
          "state": {
            "_dom_classes": [],
            "_model_module": "@jupyter-widgets/controls",
            "_model_module_version": "1.5.0",
            "_model_name": "HBoxModel",
            "_view_count": null,
            "_view_module": "@jupyter-widgets/controls",
            "_view_module_version": "1.5.0",
            "_view_name": "HBoxView",
            "box_style": "",
            "children": [
              "IPY_MODEL_dad15e1aa1954bad9466e742ca3d3019",
              "IPY_MODEL_891bda0fba8f4e119567f7cd1f2ea0fb",
              "IPY_MODEL_e9e3d8844da2442f9ef2e6462207545a"
            ],
            "layout": "IPY_MODEL_9abf67ba3d474a77b8cb48408ff58856"
          }
        },
        "dad15e1aa1954bad9466e742ca3d3019": {
          "model_module": "@jupyter-widgets/controls",
          "model_name": "HTMLModel",
          "model_module_version": "1.5.0",
          "state": {
            "_dom_classes": [],
            "_model_module": "@jupyter-widgets/controls",
            "_model_module_version": "1.5.0",
            "_model_name": "HTMLModel",
            "_view_count": null,
            "_view_module": "@jupyter-widgets/controls",
            "_view_module_version": "1.5.0",
            "_view_name": "HTMLView",
            "description": "",
            "description_tooltip": null,
            "layout": "IPY_MODEL_3bfa73801c7145399c3971606a983822",
            "placeholder": "​",
            "style": "IPY_MODEL_a49919b83fcd4b2fabd624a76fb5947e",
            "value": "model.safetensors: 100%"
          }
        },
        "891bda0fba8f4e119567f7cd1f2ea0fb": {
          "model_module": "@jupyter-widgets/controls",
          "model_name": "FloatProgressModel",
          "model_module_version": "1.5.0",
          "state": {
            "_dom_classes": [],
            "_model_module": "@jupyter-widgets/controls",
            "_model_module_version": "1.5.0",
            "_model_name": "FloatProgressModel",
            "_view_count": null,
            "_view_module": "@jupyter-widgets/controls",
            "_view_module_version": "1.5.0",
            "_view_name": "ProgressView",
            "bar_style": "success",
            "description": "",
            "description_tooltip": null,
            "layout": "IPY_MODEL_1a321d3c04af4b0d9d80b21b84a9a77c",
            "max": 267832558,
            "min": 0,
            "orientation": "horizontal",
            "style": "IPY_MODEL_134cc3a63e6f4548827884ec110c5ddd",
            "value": 267832558
          }
        },
        "e9e3d8844da2442f9ef2e6462207545a": {
          "model_module": "@jupyter-widgets/controls",
          "model_name": "HTMLModel",
          "model_module_version": "1.5.0",
          "state": {
            "_dom_classes": [],
            "_model_module": "@jupyter-widgets/controls",
            "_model_module_version": "1.5.0",
            "_model_name": "HTMLModel",
            "_view_count": null,
            "_view_module": "@jupyter-widgets/controls",
            "_view_module_version": "1.5.0",
            "_view_name": "HTMLView",
            "description": "",
            "description_tooltip": null,
            "layout": "IPY_MODEL_acd9e604ca1f4237aac8665139c76cbd",
            "placeholder": "​",
            "style": "IPY_MODEL_bd49c6ba4b334e2c954151b728d09ad9",
            "value": " 268M/268M [00:11&lt;00:00, 28.5MB/s]"
          }
        },
        "9abf67ba3d474a77b8cb48408ff58856": {
          "model_module": "@jupyter-widgets/base",
          "model_name": "LayoutModel",
          "model_module_version": "1.2.0",
          "state": {
            "_model_module": "@jupyter-widgets/base",
            "_model_module_version": "1.2.0",
            "_model_name": "LayoutModel",
            "_view_count": null,
            "_view_module": "@jupyter-widgets/base",
            "_view_module_version": "1.2.0",
            "_view_name": "LayoutView",
            "align_content": null,
            "align_items": null,
            "align_self": null,
            "border": null,
            "bottom": null,
            "display": null,
            "flex": null,
            "flex_flow": null,
            "grid_area": null,
            "grid_auto_columns": null,
            "grid_auto_flow": null,
            "grid_auto_rows": null,
            "grid_column": null,
            "grid_gap": null,
            "grid_row": null,
            "grid_template_areas": null,
            "grid_template_columns": null,
            "grid_template_rows": null,
            "height": null,
            "justify_content": null,
            "justify_items": null,
            "left": null,
            "margin": null,
            "max_height": null,
            "max_width": null,
            "min_height": null,
            "min_width": null,
            "object_fit": null,
            "object_position": null,
            "order": null,
            "overflow": null,
            "overflow_x": null,
            "overflow_y": null,
            "padding": null,
            "right": null,
            "top": null,
            "visibility": null,
            "width": null
          }
        },
        "3bfa73801c7145399c3971606a983822": {
          "model_module": "@jupyter-widgets/base",
          "model_name": "LayoutModel",
          "model_module_version": "1.2.0",
          "state": {
            "_model_module": "@jupyter-widgets/base",
            "_model_module_version": "1.2.0",
            "_model_name": "LayoutModel",
            "_view_count": null,
            "_view_module": "@jupyter-widgets/base",
            "_view_module_version": "1.2.0",
            "_view_name": "LayoutView",
            "align_content": null,
            "align_items": null,
            "align_self": null,
            "border": null,
            "bottom": null,
            "display": null,
            "flex": null,
            "flex_flow": null,
            "grid_area": null,
            "grid_auto_columns": null,
            "grid_auto_flow": null,
            "grid_auto_rows": null,
            "grid_column": null,
            "grid_gap": null,
            "grid_row": null,
            "grid_template_areas": null,
            "grid_template_columns": null,
            "grid_template_rows": null,
            "height": null,
            "justify_content": null,
            "justify_items": null,
            "left": null,
            "margin": null,
            "max_height": null,
            "max_width": null,
            "min_height": null,
            "min_width": null,
            "object_fit": null,
            "object_position": null,
            "order": null,
            "overflow": null,
            "overflow_x": null,
            "overflow_y": null,
            "padding": null,
            "right": null,
            "top": null,
            "visibility": null,
            "width": null
          }
        },
        "a49919b83fcd4b2fabd624a76fb5947e": {
          "model_module": "@jupyter-widgets/controls",
          "model_name": "DescriptionStyleModel",
          "model_module_version": "1.5.0",
          "state": {
            "_model_module": "@jupyter-widgets/controls",
            "_model_module_version": "1.5.0",
            "_model_name": "DescriptionStyleModel",
            "_view_count": null,
            "_view_module": "@jupyter-widgets/base",
            "_view_module_version": "1.2.0",
            "_view_name": "StyleView",
            "description_width": ""
          }
        },
        "1a321d3c04af4b0d9d80b21b84a9a77c": {
          "model_module": "@jupyter-widgets/base",
          "model_name": "LayoutModel",
          "model_module_version": "1.2.0",
          "state": {
            "_model_module": "@jupyter-widgets/base",
            "_model_module_version": "1.2.0",
            "_model_name": "LayoutModel",
            "_view_count": null,
            "_view_module": "@jupyter-widgets/base",
            "_view_module_version": "1.2.0",
            "_view_name": "LayoutView",
            "align_content": null,
            "align_items": null,
            "align_self": null,
            "border": null,
            "bottom": null,
            "display": null,
            "flex": null,
            "flex_flow": null,
            "grid_area": null,
            "grid_auto_columns": null,
            "grid_auto_flow": null,
            "grid_auto_rows": null,
            "grid_column": null,
            "grid_gap": null,
            "grid_row": null,
            "grid_template_areas": null,
            "grid_template_columns": null,
            "grid_template_rows": null,
            "height": null,
            "justify_content": null,
            "justify_items": null,
            "left": null,
            "margin": null,
            "max_height": null,
            "max_width": null,
            "min_height": null,
            "min_width": null,
            "object_fit": null,
            "object_position": null,
            "order": null,
            "overflow": null,
            "overflow_x": null,
            "overflow_y": null,
            "padding": null,
            "right": null,
            "top": null,
            "visibility": null,
            "width": null
          }
        },
        "134cc3a63e6f4548827884ec110c5ddd": {
          "model_module": "@jupyter-widgets/controls",
          "model_name": "ProgressStyleModel",
          "model_module_version": "1.5.0",
          "state": {
            "_model_module": "@jupyter-widgets/controls",
            "_model_module_version": "1.5.0",
            "_model_name": "ProgressStyleModel",
            "_view_count": null,
            "_view_module": "@jupyter-widgets/base",
            "_view_module_version": "1.2.0",
            "_view_name": "StyleView",
            "bar_color": null,
            "description_width": ""
          }
        },
        "acd9e604ca1f4237aac8665139c76cbd": {
          "model_module": "@jupyter-widgets/base",
          "model_name": "LayoutModel",
          "model_module_version": "1.2.0",
          "state": {
            "_model_module": "@jupyter-widgets/base",
            "_model_module_version": "1.2.0",
            "_model_name": "LayoutModel",
            "_view_count": null,
            "_view_module": "@jupyter-widgets/base",
            "_view_module_version": "1.2.0",
            "_view_name": "LayoutView",
            "align_content": null,
            "align_items": null,
            "align_self": null,
            "border": null,
            "bottom": null,
            "display": null,
            "flex": null,
            "flex_flow": null,
            "grid_area": null,
            "grid_auto_columns": null,
            "grid_auto_flow": null,
            "grid_auto_rows": null,
            "grid_column": null,
            "grid_gap": null,
            "grid_row": null,
            "grid_template_areas": null,
            "grid_template_columns": null,
            "grid_template_rows": null,
            "height": null,
            "justify_content": null,
            "justify_items": null,
            "left": null,
            "margin": null,
            "max_height": null,
            "max_width": null,
            "min_height": null,
            "min_width": null,
            "object_fit": null,
            "object_position": null,
            "order": null,
            "overflow": null,
            "overflow_x": null,
            "overflow_y": null,
            "padding": null,
            "right": null,
            "top": null,
            "visibility": null,
            "width": null
          }
        },
        "bd49c6ba4b334e2c954151b728d09ad9": {
          "model_module": "@jupyter-widgets/controls",
          "model_name": "DescriptionStyleModel",
          "model_module_version": "1.5.0",
          "state": {
            "_model_module": "@jupyter-widgets/controls",
            "_model_module_version": "1.5.0",
            "_model_name": "DescriptionStyleModel",
            "_view_count": null,
            "_view_module": "@jupyter-widgets/base",
            "_view_module_version": "1.2.0",
            "_view_name": "StyleView",
            "description_width": ""
          }
        },
        "7eb87182ac0049c5a88ed025b9f84889": {
          "model_module": "@jupyter-widgets/controls",
          "model_name": "HBoxModel",
          "model_module_version": "1.5.0",
          "state": {
            "_dom_classes": [],
            "_model_module": "@jupyter-widgets/controls",
            "_model_module_version": "1.5.0",
            "_model_name": "HBoxModel",
            "_view_count": null,
            "_view_module": "@jupyter-widgets/controls",
            "_view_module_version": "1.5.0",
            "_view_name": "HBoxView",
            "box_style": "",
            "children": [
              "IPY_MODEL_ba2f8e74e75443fa8acae1ffe822b93c",
              "IPY_MODEL_32a1c4ace2bb48588ee0a91ca3c8a1c7",
              "IPY_MODEL_8bad516997224d71b2590d41d1e4f8f4"
            ],
            "layout": "IPY_MODEL_3ff6fdff88f344a59a634f607d9a201c"
          }
        },
        "ba2f8e74e75443fa8acae1ffe822b93c": {
          "model_module": "@jupyter-widgets/controls",
          "model_name": "HTMLModel",
          "model_module_version": "1.5.0",
          "state": {
            "_dom_classes": [],
            "_model_module": "@jupyter-widgets/controls",
            "_model_module_version": "1.5.0",
            "_model_name": "HTMLModel",
            "_view_count": null,
            "_view_module": "@jupyter-widgets/controls",
            "_view_module_version": "1.5.0",
            "_view_name": "HTMLView",
            "description": "",
            "description_tooltip": null,
            "layout": "IPY_MODEL_c0e64a12e94b4061926e13fc008b7f23",
            "placeholder": "​",
            "style": "IPY_MODEL_8388b6325f334850a4f9265e8fa5e20b",
            "value": "tokenizer_config.json: 100%"
          }
        },
        "32a1c4ace2bb48588ee0a91ca3c8a1c7": {
          "model_module": "@jupyter-widgets/controls",
          "model_name": "FloatProgressModel",
          "model_module_version": "1.5.0",
          "state": {
            "_dom_classes": [],
            "_model_module": "@jupyter-widgets/controls",
            "_model_module_version": "1.5.0",
            "_model_name": "FloatProgressModel",
            "_view_count": null,
            "_view_module": "@jupyter-widgets/controls",
            "_view_module_version": "1.5.0",
            "_view_name": "ProgressView",
            "bar_style": "success",
            "description": "",
            "description_tooltip": null,
            "layout": "IPY_MODEL_bf59edd825ce4055819e54827f8d4158",
            "max": 48,
            "min": 0,
            "orientation": "horizontal",
            "style": "IPY_MODEL_1e33be93d55b4763a896fc08689be6db",
            "value": 48
          }
        },
        "8bad516997224d71b2590d41d1e4f8f4": {
          "model_module": "@jupyter-widgets/controls",
          "model_name": "HTMLModel",
          "model_module_version": "1.5.0",
          "state": {
            "_dom_classes": [],
            "_model_module": "@jupyter-widgets/controls",
            "_model_module_version": "1.5.0",
            "_model_name": "HTMLModel",
            "_view_count": null,
            "_view_module": "@jupyter-widgets/controls",
            "_view_module_version": "1.5.0",
            "_view_name": "HTMLView",
            "description": "",
            "description_tooltip": null,
            "layout": "IPY_MODEL_12434be4b8cc471c8e2c17bc277aa983",
            "placeholder": "​",
            "style": "IPY_MODEL_e7dab352e3514b7ea73908f5d1ea099f",
            "value": " 48.0/48.0 [00:00&lt;00:00, 585B/s]"
          }
        },
        "3ff6fdff88f344a59a634f607d9a201c": {
          "model_module": "@jupyter-widgets/base",
          "model_name": "LayoutModel",
          "model_module_version": "1.2.0",
          "state": {
            "_model_module": "@jupyter-widgets/base",
            "_model_module_version": "1.2.0",
            "_model_name": "LayoutModel",
            "_view_count": null,
            "_view_module": "@jupyter-widgets/base",
            "_view_module_version": "1.2.0",
            "_view_name": "LayoutView",
            "align_content": null,
            "align_items": null,
            "align_self": null,
            "border": null,
            "bottom": null,
            "display": null,
            "flex": null,
            "flex_flow": null,
            "grid_area": null,
            "grid_auto_columns": null,
            "grid_auto_flow": null,
            "grid_auto_rows": null,
            "grid_column": null,
            "grid_gap": null,
            "grid_row": null,
            "grid_template_areas": null,
            "grid_template_columns": null,
            "grid_template_rows": null,
            "height": null,
            "justify_content": null,
            "justify_items": null,
            "left": null,
            "margin": null,
            "max_height": null,
            "max_width": null,
            "min_height": null,
            "min_width": null,
            "object_fit": null,
            "object_position": null,
            "order": null,
            "overflow": null,
            "overflow_x": null,
            "overflow_y": null,
            "padding": null,
            "right": null,
            "top": null,
            "visibility": null,
            "width": null
          }
        },
        "c0e64a12e94b4061926e13fc008b7f23": {
          "model_module": "@jupyter-widgets/base",
          "model_name": "LayoutModel",
          "model_module_version": "1.2.0",
          "state": {
            "_model_module": "@jupyter-widgets/base",
            "_model_module_version": "1.2.0",
            "_model_name": "LayoutModel",
            "_view_count": null,
            "_view_module": "@jupyter-widgets/base",
            "_view_module_version": "1.2.0",
            "_view_name": "LayoutView",
            "align_content": null,
            "align_items": null,
            "align_self": null,
            "border": null,
            "bottom": null,
            "display": null,
            "flex": null,
            "flex_flow": null,
            "grid_area": null,
            "grid_auto_columns": null,
            "grid_auto_flow": null,
            "grid_auto_rows": null,
            "grid_column": null,
            "grid_gap": null,
            "grid_row": null,
            "grid_template_areas": null,
            "grid_template_columns": null,
            "grid_template_rows": null,
            "height": null,
            "justify_content": null,
            "justify_items": null,
            "left": null,
            "margin": null,
            "max_height": null,
            "max_width": null,
            "min_height": null,
            "min_width": null,
            "object_fit": null,
            "object_position": null,
            "order": null,
            "overflow": null,
            "overflow_x": null,
            "overflow_y": null,
            "padding": null,
            "right": null,
            "top": null,
            "visibility": null,
            "width": null
          }
        },
        "8388b6325f334850a4f9265e8fa5e20b": {
          "model_module": "@jupyter-widgets/controls",
          "model_name": "DescriptionStyleModel",
          "model_module_version": "1.5.0",
          "state": {
            "_model_module": "@jupyter-widgets/controls",
            "_model_module_version": "1.5.0",
            "_model_name": "DescriptionStyleModel",
            "_view_count": null,
            "_view_module": "@jupyter-widgets/base",
            "_view_module_version": "1.2.0",
            "_view_name": "StyleView",
            "description_width": ""
          }
        },
        "bf59edd825ce4055819e54827f8d4158": {
          "model_module": "@jupyter-widgets/base",
          "model_name": "LayoutModel",
          "model_module_version": "1.2.0",
          "state": {
            "_model_module": "@jupyter-widgets/base",
            "_model_module_version": "1.2.0",
            "_model_name": "LayoutModel",
            "_view_count": null,
            "_view_module": "@jupyter-widgets/base",
            "_view_module_version": "1.2.0",
            "_view_name": "LayoutView",
            "align_content": null,
            "align_items": null,
            "align_self": null,
            "border": null,
            "bottom": null,
            "display": null,
            "flex": null,
            "flex_flow": null,
            "grid_area": null,
            "grid_auto_columns": null,
            "grid_auto_flow": null,
            "grid_auto_rows": null,
            "grid_column": null,
            "grid_gap": null,
            "grid_row": null,
            "grid_template_areas": null,
            "grid_template_columns": null,
            "grid_template_rows": null,
            "height": null,
            "justify_content": null,
            "justify_items": null,
            "left": null,
            "margin": null,
            "max_height": null,
            "max_width": null,
            "min_height": null,
            "min_width": null,
            "object_fit": null,
            "object_position": null,
            "order": null,
            "overflow": null,
            "overflow_x": null,
            "overflow_y": null,
            "padding": null,
            "right": null,
            "top": null,
            "visibility": null,
            "width": null
          }
        },
        "1e33be93d55b4763a896fc08689be6db": {
          "model_module": "@jupyter-widgets/controls",
          "model_name": "ProgressStyleModel",
          "model_module_version": "1.5.0",
          "state": {
            "_model_module": "@jupyter-widgets/controls",
            "_model_module_version": "1.5.0",
            "_model_name": "ProgressStyleModel",
            "_view_count": null,
            "_view_module": "@jupyter-widgets/base",
            "_view_module_version": "1.2.0",
            "_view_name": "StyleView",
            "bar_color": null,
            "description_width": ""
          }
        },
        "12434be4b8cc471c8e2c17bc277aa983": {
          "model_module": "@jupyter-widgets/base",
          "model_name": "LayoutModel",
          "model_module_version": "1.2.0",
          "state": {
            "_model_module": "@jupyter-widgets/base",
            "_model_module_version": "1.2.0",
            "_model_name": "LayoutModel",
            "_view_count": null,
            "_view_module": "@jupyter-widgets/base",
            "_view_module_version": "1.2.0",
            "_view_name": "LayoutView",
            "align_content": null,
            "align_items": null,
            "align_self": null,
            "border": null,
            "bottom": null,
            "display": null,
            "flex": null,
            "flex_flow": null,
            "grid_area": null,
            "grid_auto_columns": null,
            "grid_auto_flow": null,
            "grid_auto_rows": null,
            "grid_column": null,
            "grid_gap": null,
            "grid_row": null,
            "grid_template_areas": null,
            "grid_template_columns": null,
            "grid_template_rows": null,
            "height": null,
            "justify_content": null,
            "justify_items": null,
            "left": null,
            "margin": null,
            "max_height": null,
            "max_width": null,
            "min_height": null,
            "min_width": null,
            "object_fit": null,
            "object_position": null,
            "order": null,
            "overflow": null,
            "overflow_x": null,
            "overflow_y": null,
            "padding": null,
            "right": null,
            "top": null,
            "visibility": null,
            "width": null
          }
        },
        "e7dab352e3514b7ea73908f5d1ea099f": {
          "model_module": "@jupyter-widgets/controls",
          "model_name": "DescriptionStyleModel",
          "model_module_version": "1.5.0",
          "state": {
            "_model_module": "@jupyter-widgets/controls",
            "_model_module_version": "1.5.0",
            "_model_name": "DescriptionStyleModel",
            "_view_count": null,
            "_view_module": "@jupyter-widgets/base",
            "_view_module_version": "1.2.0",
            "_view_name": "StyleView",
            "description_width": ""
          }
        },
        "447a1b55b1394cce8c7a9a25f2c07d29": {
          "model_module": "@jupyter-widgets/controls",
          "model_name": "HBoxModel",
          "model_module_version": "1.5.0",
          "state": {
            "_dom_classes": [],
            "_model_module": "@jupyter-widgets/controls",
            "_model_module_version": "1.5.0",
            "_model_name": "HBoxModel",
            "_view_count": null,
            "_view_module": "@jupyter-widgets/controls",
            "_view_module_version": "1.5.0",
            "_view_name": "HBoxView",
            "box_style": "",
            "children": [
              "IPY_MODEL_ff66ce8a598e4df08f4d6e3a36921ab4",
              "IPY_MODEL_aa24f54754fe4e9b9c81e44a8c8ed5c2",
              "IPY_MODEL_8e317479818b44f38a6377534fc99b7a"
            ],
            "layout": "IPY_MODEL_2608b5928e334fa9a7b0d69e88385f12"
          }
        },
        "ff66ce8a598e4df08f4d6e3a36921ab4": {
          "model_module": "@jupyter-widgets/controls",
          "model_name": "HTMLModel",
          "model_module_version": "1.5.0",
          "state": {
            "_dom_classes": [],
            "_model_module": "@jupyter-widgets/controls",
            "_model_module_version": "1.5.0",
            "_model_name": "HTMLModel",
            "_view_count": null,
            "_view_module": "@jupyter-widgets/controls",
            "_view_module_version": "1.5.0",
            "_view_name": "HTMLView",
            "description": "",
            "description_tooltip": null,
            "layout": "IPY_MODEL_33efbc83dcb4428894a4882d0efcb2d4",
            "placeholder": "​",
            "style": "IPY_MODEL_a0a2bf13dce1444fa502ab9275bc390e",
            "value": "vocab.txt: 100%"
          }
        },
        "aa24f54754fe4e9b9c81e44a8c8ed5c2": {
          "model_module": "@jupyter-widgets/controls",
          "model_name": "FloatProgressModel",
          "model_module_version": "1.5.0",
          "state": {
            "_dom_classes": [],
            "_model_module": "@jupyter-widgets/controls",
            "_model_module_version": "1.5.0",
            "_model_name": "FloatProgressModel",
            "_view_count": null,
            "_view_module": "@jupyter-widgets/controls",
            "_view_module_version": "1.5.0",
            "_view_name": "ProgressView",
            "bar_style": "success",
            "description": "",
            "description_tooltip": null,
            "layout": "IPY_MODEL_28983cd191064fa4a4efd1a4d5a2d9d4",
            "max": 231508,
            "min": 0,
            "orientation": "horizontal",
            "style": "IPY_MODEL_948b517db4d24cd59eff5e5b0f081d16",
            "value": 231508
          }
        },
        "8e317479818b44f38a6377534fc99b7a": {
          "model_module": "@jupyter-widgets/controls",
          "model_name": "HTMLModel",
          "model_module_version": "1.5.0",
          "state": {
            "_dom_classes": [],
            "_model_module": "@jupyter-widgets/controls",
            "_model_module_version": "1.5.0",
            "_model_name": "HTMLModel",
            "_view_count": null,
            "_view_module": "@jupyter-widgets/controls",
            "_view_module_version": "1.5.0",
            "_view_name": "HTMLView",
            "description": "",
            "description_tooltip": null,
            "layout": "IPY_MODEL_e01b2936095644fcaf74e41b9ba057d9",
            "placeholder": "​",
            "style": "IPY_MODEL_64850393ca61428b91bea1177f59cfb3",
            "value": " 232k/232k [00:00&lt;00:00, 2.15MB/s]"
          }
        },
        "2608b5928e334fa9a7b0d69e88385f12": {
          "model_module": "@jupyter-widgets/base",
          "model_name": "LayoutModel",
          "model_module_version": "1.2.0",
          "state": {
            "_model_module": "@jupyter-widgets/base",
            "_model_module_version": "1.2.0",
            "_model_name": "LayoutModel",
            "_view_count": null,
            "_view_module": "@jupyter-widgets/base",
            "_view_module_version": "1.2.0",
            "_view_name": "LayoutView",
            "align_content": null,
            "align_items": null,
            "align_self": null,
            "border": null,
            "bottom": null,
            "display": null,
            "flex": null,
            "flex_flow": null,
            "grid_area": null,
            "grid_auto_columns": null,
            "grid_auto_flow": null,
            "grid_auto_rows": null,
            "grid_column": null,
            "grid_gap": null,
            "grid_row": null,
            "grid_template_areas": null,
            "grid_template_columns": null,
            "grid_template_rows": null,
            "height": null,
            "justify_content": null,
            "justify_items": null,
            "left": null,
            "margin": null,
            "max_height": null,
            "max_width": null,
            "min_height": null,
            "min_width": null,
            "object_fit": null,
            "object_position": null,
            "order": null,
            "overflow": null,
            "overflow_x": null,
            "overflow_y": null,
            "padding": null,
            "right": null,
            "top": null,
            "visibility": null,
            "width": null
          }
        },
        "33efbc83dcb4428894a4882d0efcb2d4": {
          "model_module": "@jupyter-widgets/base",
          "model_name": "LayoutModel",
          "model_module_version": "1.2.0",
          "state": {
            "_model_module": "@jupyter-widgets/base",
            "_model_module_version": "1.2.0",
            "_model_name": "LayoutModel",
            "_view_count": null,
            "_view_module": "@jupyter-widgets/base",
            "_view_module_version": "1.2.0",
            "_view_name": "LayoutView",
            "align_content": null,
            "align_items": null,
            "align_self": null,
            "border": null,
            "bottom": null,
            "display": null,
            "flex": null,
            "flex_flow": null,
            "grid_area": null,
            "grid_auto_columns": null,
            "grid_auto_flow": null,
            "grid_auto_rows": null,
            "grid_column": null,
            "grid_gap": null,
            "grid_row": null,
            "grid_template_areas": null,
            "grid_template_columns": null,
            "grid_template_rows": null,
            "height": null,
            "justify_content": null,
            "justify_items": null,
            "left": null,
            "margin": null,
            "max_height": null,
            "max_width": null,
            "min_height": null,
            "min_width": null,
            "object_fit": null,
            "object_position": null,
            "order": null,
            "overflow": null,
            "overflow_x": null,
            "overflow_y": null,
            "padding": null,
            "right": null,
            "top": null,
            "visibility": null,
            "width": null
          }
        },
        "a0a2bf13dce1444fa502ab9275bc390e": {
          "model_module": "@jupyter-widgets/controls",
          "model_name": "DescriptionStyleModel",
          "model_module_version": "1.5.0",
          "state": {
            "_model_module": "@jupyter-widgets/controls",
            "_model_module_version": "1.5.0",
            "_model_name": "DescriptionStyleModel",
            "_view_count": null,
            "_view_module": "@jupyter-widgets/base",
            "_view_module_version": "1.2.0",
            "_view_name": "StyleView",
            "description_width": ""
          }
        },
        "28983cd191064fa4a4efd1a4d5a2d9d4": {
          "model_module": "@jupyter-widgets/base",
          "model_name": "LayoutModel",
          "model_module_version": "1.2.0",
          "state": {
            "_model_module": "@jupyter-widgets/base",
            "_model_module_version": "1.2.0",
            "_model_name": "LayoutModel",
            "_view_count": null,
            "_view_module": "@jupyter-widgets/base",
            "_view_module_version": "1.2.0",
            "_view_name": "LayoutView",
            "align_content": null,
            "align_items": null,
            "align_self": null,
            "border": null,
            "bottom": null,
            "display": null,
            "flex": null,
            "flex_flow": null,
            "grid_area": null,
            "grid_auto_columns": null,
            "grid_auto_flow": null,
            "grid_auto_rows": null,
            "grid_column": null,
            "grid_gap": null,
            "grid_row": null,
            "grid_template_areas": null,
            "grid_template_columns": null,
            "grid_template_rows": null,
            "height": null,
            "justify_content": null,
            "justify_items": null,
            "left": null,
            "margin": null,
            "max_height": null,
            "max_width": null,
            "min_height": null,
            "min_width": null,
            "object_fit": null,
            "object_position": null,
            "order": null,
            "overflow": null,
            "overflow_x": null,
            "overflow_y": null,
            "padding": null,
            "right": null,
            "top": null,
            "visibility": null,
            "width": null
          }
        },
        "948b517db4d24cd59eff5e5b0f081d16": {
          "model_module": "@jupyter-widgets/controls",
          "model_name": "ProgressStyleModel",
          "model_module_version": "1.5.0",
          "state": {
            "_model_module": "@jupyter-widgets/controls",
            "_model_module_version": "1.5.0",
            "_model_name": "ProgressStyleModel",
            "_view_count": null,
            "_view_module": "@jupyter-widgets/base",
            "_view_module_version": "1.2.0",
            "_view_name": "StyleView",
            "bar_color": null,
            "description_width": ""
          }
        },
        "e01b2936095644fcaf74e41b9ba057d9": {
          "model_module": "@jupyter-widgets/base",
          "model_name": "LayoutModel",
          "model_module_version": "1.2.0",
          "state": {
            "_model_module": "@jupyter-widgets/base",
            "_model_module_version": "1.2.0",
            "_model_name": "LayoutModel",
            "_view_count": null,
            "_view_module": "@jupyter-widgets/base",
            "_view_module_version": "1.2.0",
            "_view_name": "LayoutView",
            "align_content": null,
            "align_items": null,
            "align_self": null,
            "border": null,
            "bottom": null,
            "display": null,
            "flex": null,
            "flex_flow": null,
            "grid_area": null,
            "grid_auto_columns": null,
            "grid_auto_flow": null,
            "grid_auto_rows": null,
            "grid_column": null,
            "grid_gap": null,
            "grid_row": null,
            "grid_template_areas": null,
            "grid_template_columns": null,
            "grid_template_rows": null,
            "height": null,
            "justify_content": null,
            "justify_items": null,
            "left": null,
            "margin": null,
            "max_height": null,
            "max_width": null,
            "min_height": null,
            "min_width": null,
            "object_fit": null,
            "object_position": null,
            "order": null,
            "overflow": null,
            "overflow_x": null,
            "overflow_y": null,
            "padding": null,
            "right": null,
            "top": null,
            "visibility": null,
            "width": null
          }
        },
        "64850393ca61428b91bea1177f59cfb3": {
          "model_module": "@jupyter-widgets/controls",
          "model_name": "DescriptionStyleModel",
          "model_module_version": "1.5.0",
          "state": {
            "_model_module": "@jupyter-widgets/controls",
            "_model_module_version": "1.5.0",
            "_model_name": "DescriptionStyleModel",
            "_view_count": null,
            "_view_module": "@jupyter-widgets/base",
            "_view_module_version": "1.2.0",
            "_view_name": "StyleView",
            "description_width": ""
          }
        }
      }
    }
  },
  "cells": [
    {
      "cell_type": "markdown",
      "metadata": {
        "id": "view-in-github",
        "colab_type": "text"
      },
      "source": [
        "<a href=\"https://colab.research.google.com/github/Re843/ml_ai_ds/blob/main/NLP%20Revathi%20Untitled6.ipynb\" target=\"_parent\"><img src=\"https://colab.research.google.com/assets/colab-badge.svg\" alt=\"Open In Colab\"/></a>"
      ]
    },
    {
      "cell_type": "markdown",
      "source": [
        "#Amazon Product Reviews NLP Pipeline\n",
        "\n"
      ],
      "metadata": {
        "id": "RbXyoVweYyFa"
      }
    },
    {
      "cell_type": "markdown",
      "source": [
        "Name: Revathi Narayanan Nambiar GH1039745"
      ],
      "metadata": {
        "id": "phQ30CaVY3Bv"
      }
    },
    {
      "cell_type": "markdown",
      "source": [
        "Thousands of Amazon customer reviews are sent to our company, and while they contain valuable feedback, it can be difficult to gather actionable insights from them because they are unstructured.\n",
        "\n",
        "In order to solve this, we want to create an NLP pipeline that acknowledges important discussion points and evaluates the tone of these reviews.\n",
        "\n",
        "Product and marketing teams will benefit from this system's ability to comprehend consumer preferences and concerns.\n",
        "\n",
        "Encouraging data-driven decisions for customer satisfaction and product enhancement is the aim."
      ],
      "metadata": {
        "id": "IucSeNBYZatg"
      }
    },
    {
      "cell_type": "markdown",
      "source": [
        "Database Link: https://www.kaggle.com/code/yasserh/amazon-product-reviews-topic-modelling"
      ],
      "metadata": {
        "id": "ejx9PnxTZqJW"
      }
    },
    {
      "cell_type": "markdown",
      "source": [
        "Importing Packages"
      ],
      "metadata": {
        "id": "QyHZnHAgZwY5"
      }
    },
    {
      "cell_type": "code",
      "source": [
        "import pandas as pd\n",
        "import numpy as np\n",
        "import matplotlib.pyplot as plt\n",
        "import seaborn as sns\n",
        "import torch\n",
        "import re\n",
        "import nltk\n",
        "from nltk.corpus import stopwords\n",
        "from nltk.stem import WordNetLemmatizer\n",
        "from wordcloud import WordCloud\n",
        "from sklearn.feature_extraction.text import CountVectorizer\n",
        "!pip install gensim\n",
        "# Import corpora and models from the gensim library\n",
        "from gensim import corpora, models\n",
        "from transformers import pipeline\n",
        "import warnings\n",
        "warnings.filterwarnings(\"ignore\")"
      ],
      "metadata": {
        "colab": {
          "base_uri": "https://localhost:8080/"
        },
        "id": "ZoXHTZPrYxu3",
        "outputId": "855969d7-c405-41bd-f614-860a0ee04127"
      },
      "execution_count": null,
      "outputs": [
        {
          "output_type": "stream",
          "name": "stdout",
          "text": [
            "Requirement already satisfied: gensim in /usr/local/lib/python3.11/dist-packages (4.3.3)\n",
            "Requirement already satisfied: numpy<2.0,>=1.18.5 in /usr/local/lib/python3.11/dist-packages (from gensim) (1.26.4)\n",
            "Requirement already satisfied: scipy<1.14.0,>=1.7.0 in /usr/local/lib/python3.11/dist-packages (from gensim) (1.13.1)\n",
            "Requirement already satisfied: smart-open>=1.8.1 in /usr/local/lib/python3.11/dist-packages (from gensim) (7.1.0)\n",
            "Requirement already satisfied: wrapt in /usr/local/lib/python3.11/dist-packages (from smart-open>=1.8.1->gensim) (1.17.2)\n"
          ]
        }
      ]
    },
    {
      "cell_type": "code",
      "execution_count": null,
      "metadata": {
        "colab": {
          "base_uri": "https://localhost:8080/"
        },
        "id": "3hyqEhH1YuDy",
        "outputId": "e203b61f-009b-4c79-ead8-f267c58ccb41"
      },
      "outputs": [
        {
          "output_type": "stream",
          "name": "stderr",
          "text": [
            "[nltk_data] Downloading package stopwords to /root/nltk_data...\n",
            "[nltk_data]   Package stopwords is already up-to-date!\n",
            "[nltk_data] Downloading package punkt_tab to /root/nltk_data...\n",
            "[nltk_data]   Package punkt_tab is already up-to-date!\n",
            "[nltk_data] Downloading package wordnet to /root/nltk_data...\n",
            "[nltk_data]   Package wordnet is already up-to-date!\n"
          ]
        },
        {
          "output_type": "execute_result",
          "data": {
            "text/plain": [
              "True"
            ]
          },
          "metadata": {},
          "execution_count": 33
        }
      ],
      "source": [
        "nltk.download('stopwords')\n",
        "nltk.download('punkt_tab')\n",
        "nltk.download('wordnet')"
      ]
    },
    {
      "cell_type": "markdown",
      "source": [
        "#Load Dataset"
      ],
      "metadata": {
        "id": "l6ftbiUIarEB"
      }
    },
    {
      "cell_type": "markdown",
      "source": [
        "After loading the dataset, we choose the appropriate columns—review date, star rating, and review text. For temporal analysis, dates have been transformed into datetime format."
      ],
      "metadata": {
        "id": "ZfX9LlTGgben"
      }
    },
    {
      "cell_type": "code",
      "source": [
        "# Load Dataset\n",
        "df = pd.read_csv('/content/7817_1.csv.zip')\n",
        "\n",
        "# Print the column names to inspect them\n",
        "print(df.columns)\n",
        "print(df.columns.tolist())\n",
        "\n"
      ],
      "metadata": {
        "colab": {
          "base_uri": "https://localhost:8080/"
        },
        "id": "KYZP0LPQao_O",
        "outputId": "2df74b6a-4550-4d5e-a1d8-fca6072668a1"
      },
      "execution_count": null,
      "outputs": [
        {
          "output_type": "stream",
          "name": "stdout",
          "text": [
            "Index(['id', 'asins', 'brand', 'categories', 'colors', 'dateAdded',\n",
            "       'dateUpdated', 'dimension', 'ean', 'keys', 'manufacturer',\n",
            "       'manufacturerNumber', 'name', 'prices', 'reviews.date',\n",
            "       'reviews.doRecommend', 'reviews.numHelpful', 'reviews.rating',\n",
            "       'reviews.sourceURLs', 'reviews.text', 'reviews.title',\n",
            "       'reviews.userCity', 'reviews.userProvince', 'reviews.username', 'sizes',\n",
            "       'upc', 'weight'],\n",
            "      dtype='object')\n",
            "['id', 'asins', 'brand', 'categories', 'colors', 'dateAdded', 'dateUpdated', 'dimension', 'ean', 'keys', 'manufacturer', 'manufacturerNumber', 'name', 'prices', 'reviews.date', 'reviews.doRecommend', 'reviews.numHelpful', 'reviews.rating', 'reviews.sourceURLs', 'reviews.text', 'reviews.title', 'reviews.userCity', 'reviews.userProvince', 'reviews.username', 'sizes', 'upc', 'weight']\n"
          ]
        }
      ]
    },
    {
      "cell_type": "code",
      "source": [
        "df = pd.read_csv('/content/7817_1.csv.zip')\n",
        "\n",
        "# Select relevant columns and drop missing data\n",
        "df = df[['reviews.text', 'reviews.rating', 'reviews.date']].dropna()\n",
        "\n",
        "# Rename for convenience\n",
        "df = df.rename(columns={\n",
        "    'reviews.text': 'text',\n",
        "    'reviews.rating': 'rating',\n",
        "    'reviews.date': 'date'\n",
        "})\n",
        "\n",
        "# Convert date to datetime format\n",
        "df['date'] = pd.to_datetime(df['date'], errors='coerce')\n",
        "\n",
        "# Drop rows with invalid dates (if any)\n",
        "df = df.dropna(subset=['date'])\n",
        "\n",
        "print(df.head())\n",
        "\n"
      ],
      "metadata": {
        "colab": {
          "base_uri": "https://localhost:8080/"
        },
        "id": "bnFpPPPzbPKG",
        "outputId": "9179e396-2fb4-46c1-a815-e6bc3affbe53"
      },
      "execution_count": null,
      "outputs": [
        {
          "output_type": "stream",
          "name": "stdout",
          "text": [
            "                                                text  rating  \\\n",
            "0  I initially had trouble deciding between the p...     5.0   \n",
            "1  Allow me to preface this with a little history...     5.0   \n",
            "2  I am enjoying it so far. Great for reading. Ha...     4.0   \n",
            "3  I bought one of the first Paperwhites and have...     5.0   \n",
            "4  I have to say upfront - I don't like coroporat...     5.0   \n",
            "\n",
            "                       date  \n",
            "0 2015-08-08 00:00:00+00:00  \n",
            "1 2015-09-01 00:00:00+00:00  \n",
            "2 2015-07-20 00:00:00+00:00  \n",
            "3 2017-06-16 00:00:00+00:00  \n",
            "4 2016-08-11 00:00:00+00:00  \n"
          ]
        }
      ]
    },
    {
      "cell_type": "markdown",
      "source": [
        "#Preprocessing"
      ],
      "metadata": {
        "id": "zTiTW4MdcP-F"
      }
    },
    {
      "cell_type": "markdown",
      "source": [
        "The review texts are cleaned and tokenized here by:\n",
        "\n",
        "1.Removal of non-alphabetic characters\n",
        "\n",
        "2.Making the change to lowercase\n",
        "\n",
        "3.The elimination of stopwords\n",
        "\n",
        "4.Lemmatizing terms\n",
        "\n",
        "The data is now ready for sentiment analysis and topic modeling."
      ],
      "metadata": {
        "id": "EhzK47r5g6eu"
      }
    },
    {
      "cell_type": "code",
      "source": [
        "stop_words = set(stopwords.words('english'))\n",
        "lemmatizer = WordNetLemmatizer()\n",
        "\n",
        "def preprocess(text):\n",
        "    text = re.sub(r\"[^a-zA-Z]\", \" \", text)  # Remove non-letters\n",
        "    text = text.lower()\n",
        "    tokens = nltk.word_tokenize(text)\n",
        "    tokens = [lemmatizer.lemmatize(word) for word in tokens if word not in stop_words and len(word) > 2]\n",
        "    return tokens\n",
        "\n",
        "print(\"Preprocessing reviews...\")\n",
        "df['tokens'] = df['text'].apply(preprocess)\n",
        "df = df[df['tokens'].str.len() > 0]  # Keep only rows with tokens"
      ],
      "metadata": {
        "colab": {
          "base_uri": "https://localhost:8080/"
        },
        "id": "p00C_sXBcUDD",
        "outputId": "b6720511-817a-4a62-bb57-611b1f38554a"
      },
      "execution_count": null,
      "outputs": [
        {
          "output_type": "stream",
          "name": "stdout",
          "text": [
            "Preprocessing reviews...\n"
          ]
        }
      ]
    },
    {
      "cell_type": "markdown",
      "source": [
        "#Topic Modeling using LDA"
      ],
      "metadata": {
        "id": "mq1-SCbLd9nL"
      }
    },
    {
      "cell_type": "markdown",
      "source": [
        "We determine five significant trends in the reviews using Latent Dirichlet Allocation (LDA). We are better able to comprehend what customers discuss about by using topics.\n",
        "\n",
        "Each topic's top words are displayed for interpretation."
      ],
      "metadata": {
        "id": "Jn3qJ1Ing7rn"
      }
    },
    {
      "cell_type": "code",
      "source": [
        "print(\"Building LDA topic model...\")\n",
        "dictionary = corpora.Dictionary(df['tokens'])\n",
        "corpus = [dictionary.doc2bow(text) for text in df['tokens']]\n",
        "lda_model = models.LdaModel(corpus, num_topics=5, id2word=dictionary, passes=10, random_state=42)\n",
        "\n",
        "# Display discovered topics\n",
        "for idx, topic in lda_model.print_topics():\n",
        "    print(f\"Topic {idx+1}: {topic}\\n\")\n",
        "\n",
        "def get_dominant_topic(tokens):\n",
        "    bow = dictionary.doc2bow(tokens)\n",
        "    topics = lda_model.get_document_topics(bow)\n",
        "    if topics:\n",
        "        return max(topics, key=lambda x: x[1])[0]\n",
        "    return None\n",
        "\n",
        "df['topic'] = df['tokens'].apply(get_dominant_topic)\n",
        "df = df[df['topic'].notnull()]  # remove rows with no dominant topic"
      ],
      "metadata": {
        "colab": {
          "base_uri": "https://localhost:8080/"
        },
        "id": "-bnEazq3d4cP",
        "outputId": "32637f39-f481-4844-857b-95e549119d73"
      },
      "execution_count": null,
      "outputs": [
        {
          "output_type": "stream",
          "name": "stdout",
          "text": [
            "Building LDA topic model...\n",
            "Topic 1: 0.014*\"kindle\" + 0.011*\"use\" + 0.011*\"sling\" + 0.010*\"one\" + 0.010*\"would\" + 0.009*\"like\" + 0.008*\"review\" + 0.008*\"book\" + 0.008*\"tablet\" + 0.007*\"case\"\n",
            "\n",
            "Topic 2: 0.025*\"echo\" + 0.024*\"tap\" + 0.013*\"great\" + 0.011*\"kindle\" + 0.010*\"love\" + 0.009*\"would\" + 0.009*\"alexa\" + 0.009*\"book\" + 0.008*\"amazon\" + 0.008*\"like\"\n",
            "\n",
            "Topic 3: 0.025*\"fire\" + 0.016*\"tablet\" + 0.012*\"amazon\" + 0.012*\"case\" + 0.012*\"kindle\" + 0.010*\"new\" + 0.010*\"remote\" + 0.008*\"one\" + 0.007*\"well\" + 0.007*\"model\"\n",
            "\n",
            "Topic 4: 0.019*\"great\" + 0.018*\"speaker\" + 0.018*\"sound\" + 0.014*\"alexa\" + 0.014*\"amazon\" + 0.013*\"echo\" + 0.012*\"music\" + 0.012*\"tap\" + 0.011*\"use\" + 0.011*\"good\"\n",
            "\n",
            "Topic 5: 0.016*\"cover\" + 0.015*\"dot\" + 0.015*\"look\" + 0.013*\"love\" + 0.013*\"like\" + 0.012*\"one\" + 0.008*\"bought\" + 0.008*\"fabric\" + 0.008*\"three\" + 0.008*\"read\"\n",
            "\n"
          ]
        }
      ]
    },
    {
      "cell_type": "markdown",
      "source": [
        "#Sentiment Analysis"
      ],
      "metadata": {
        "id": "EYnjrlLpeDhH"
      }
    },
    {
      "cell_type": "code",
      "source": [
        "print(\"Running sentiment analysis...\")\n",
        "device = 0 if torch.cuda.is_available() else -1\n",
        "sentiment_pipeline = pipeline(\"sentiment-analysis\", device=device)\n",
        "\n",
        "def analyze_sentiment(text):\n",
        "    try:\n",
        "        return sentiment_pipeline(text[:512])[0]['label']  # truncate text to max length for transformer\n",
        "    except Exception:\n",
        "        return None\n",
        "\n",
        "df['sentiment'] = df['text'].apply(analyze_sentiment)\n",
        "df = df[df['sentiment'].notnull()]  # drop rows where sentiment failed"
      ],
      "metadata": {
        "colab": {
          "base_uri": "https://localhost:8080/",
          "height": 234,
          "referenced_widgets": [
            "a9b0dc9d1be94507afd70d871a56d481",
            "b1a09b6eab954f508d0940b529c6726d",
            "c264c46ed8894b48bdb805bdbdbbd40f",
            "919580ea4dac4e88b895fd3b930d88b1",
            "084ede50f6ab483c8024bd0fc49e321c",
            "5edf80b5eae04f9291b29d244c98bdff",
            "e73bdbb4c71c459d849757304996df50",
            "70f547e54382494a83d7c3c26c87ada2",
            "f6f4533479c7496da76daad2e40edbf9",
            "7d7d9a23d1994511b9ea526c28d85a34",
            "c68af4cb281a43128907dd2ce526786d",
            "79b672df6bdb4f4caf1c8db5758673b8",
            "dad15e1aa1954bad9466e742ca3d3019",
            "891bda0fba8f4e119567f7cd1f2ea0fb",
            "e9e3d8844da2442f9ef2e6462207545a",
            "9abf67ba3d474a77b8cb48408ff58856",
            "3bfa73801c7145399c3971606a983822",
            "a49919b83fcd4b2fabd624a76fb5947e",
            "1a321d3c04af4b0d9d80b21b84a9a77c",
            "134cc3a63e6f4548827884ec110c5ddd",
            "acd9e604ca1f4237aac8665139c76cbd",
            "bd49c6ba4b334e2c954151b728d09ad9",
            "7eb87182ac0049c5a88ed025b9f84889",
            "ba2f8e74e75443fa8acae1ffe822b93c",
            "32a1c4ace2bb48588ee0a91ca3c8a1c7",
            "8bad516997224d71b2590d41d1e4f8f4",
            "3ff6fdff88f344a59a634f607d9a201c",
            "c0e64a12e94b4061926e13fc008b7f23",
            "8388b6325f334850a4f9265e8fa5e20b",
            "bf59edd825ce4055819e54827f8d4158",
            "1e33be93d55b4763a896fc08689be6db",
            "12434be4b8cc471c8e2c17bc277aa983",
            "e7dab352e3514b7ea73908f5d1ea099f",
            "447a1b55b1394cce8c7a9a25f2c07d29",
            "ff66ce8a598e4df08f4d6e3a36921ab4",
            "aa24f54754fe4e9b9c81e44a8c8ed5c2",
            "8e317479818b44f38a6377534fc99b7a",
            "2608b5928e334fa9a7b0d69e88385f12",
            "33efbc83dcb4428894a4882d0efcb2d4",
            "a0a2bf13dce1444fa502ab9275bc390e",
            "28983cd191064fa4a4efd1a4d5a2d9d4",
            "948b517db4d24cd59eff5e5b0f081d16",
            "e01b2936095644fcaf74e41b9ba057d9",
            "64850393ca61428b91bea1177f59cfb3"
          ]
        },
        "id": "hh7PTaJkeHB0",
        "outputId": "45a51103-4767-412e-a545-7dbfe7ceaa3f"
      },
      "execution_count": null,
      "outputs": [
        {
          "output_type": "stream",
          "name": "stderr",
          "text": [
            "No model was supplied, defaulted to distilbert/distilbert-base-uncased-finetuned-sst-2-english and revision 714eb0f (https://huggingface.co/distilbert/distilbert-base-uncased-finetuned-sst-2-english).\n",
            "Using a pipeline without specifying a model name and revision in production is not recommended.\n"
          ]
        },
        {
          "output_type": "stream",
          "name": "stdout",
          "text": [
            "Running sentiment analysis...\n"
          ]
        },
        {
          "output_type": "display_data",
          "data": {
            "text/plain": [
              "config.json:   0%|          | 0.00/629 [00:00<?, ?B/s]"
            ],
            "application/vnd.jupyter.widget-view+json": {
              "version_major": 2,
              "version_minor": 0,
              "model_id": "a9b0dc9d1be94507afd70d871a56d481"
            }
          },
          "metadata": {}
        },
        {
          "output_type": "display_data",
          "data": {
            "text/plain": [
              "model.safetensors:   0%|          | 0.00/268M [00:00<?, ?B/s]"
            ],
            "application/vnd.jupyter.widget-view+json": {
              "version_major": 2,
              "version_minor": 0,
              "model_id": "79b672df6bdb4f4caf1c8db5758673b8"
            }
          },
          "metadata": {}
        },
        {
          "output_type": "display_data",
          "data": {
            "text/plain": [
              "tokenizer_config.json:   0%|          | 0.00/48.0 [00:00<?, ?B/s]"
            ],
            "application/vnd.jupyter.widget-view+json": {
              "version_major": 2,
              "version_minor": 0,
              "model_id": "7eb87182ac0049c5a88ed025b9f84889"
            }
          },
          "metadata": {}
        },
        {
          "output_type": "display_data",
          "data": {
            "text/plain": [
              "vocab.txt:   0%|          | 0.00/232k [00:00<?, ?B/s]"
            ],
            "application/vnd.jupyter.widget-view+json": {
              "version_major": 2,
              "version_minor": 0,
              "model_id": "447a1b55b1394cce8c7a9a25f2c07d29"
            }
          },
          "metadata": {}
        },
        {
          "output_type": "stream",
          "name": "stderr",
          "text": [
            "Device set to use cpu\n"
          ]
        }
      ]
    },
    {
      "cell_type": "markdown",
      "source": [
        "For sentiment analysis, we categorize each review as neutral, negative, or positive using a transformer model that has already been trained."
      ],
      "metadata": {
        "id": "wDqDouP2hXFd"
      }
    },
    {
      "cell_type": "markdown",
      "source": [
        "## Sentiment distribution by topic\n"
      ],
      "metadata": {
        "id": "fJXplLWgezDZ"
      }
    },
    {
      "cell_type": "code",
      "source": [
        "topic_sentiment = df.groupby('topic')['sentiment'].value_counts(normalize=True).unstack().fillna(0)\n",
        "topic_sentiment.plot(kind='bar', stacked=True, figsize=(10,6), colormap='coolwarm')\n",
        "plt.title(\"Sentiment Distribution per Topic\")\n",
        "plt.xlabel(\"Topic\")\n",
        "plt.ylabel(\"Proportion\")\n",
        "plt.legend(title='Sentiment')\n",
        "plt.tight_layout()\n",
        "plt.show()"
      ],
      "metadata": {
        "colab": {
          "base_uri": "https://localhost:8080/",
          "height": 607
        },
        "id": "X0R6kkYreqJK",
        "outputId": "c2b471c5-588e-4744-ad92-31e4e5ec44c9"
      },
      "execution_count": null,
      "outputs": [
        {
          "output_type": "display_data",
          "data": {
            "text/plain": [
              "<Figure size 1000x600 with 1 Axes>"
            ],
            "image/png": "[encoded data removed]"
          },
          "metadata": {}
        }
      ]
    },
    {
      "cell_type": "markdown",
      "source": [
        "# Topic trends over time\n"
      ],
      "metadata": {
        "id": "41p9xDZofgE7"
      }
    },
    {
      "cell_type": "code",
      "source": [
        "df['month'] = df['date'].dt.to_period('M')\n",
        "topic_trend = df.groupby(['month', 'topic']).size().unstack(fill_value=0)\n",
        "topic_trend.plot(figsize=(12,6))\n",
        "plt.title(\"Topic Trends Over Time\")\n",
        "plt.xlabel(\"Month\")\n",
        "plt.ylabel(\"Number of Reviews\")\n",
        "plt.tight_layout()\n",
        "plt.show()"
      ],
      "metadata": {
        "colab": {
          "base_uri": "https://localhost:8080/",
          "height": 605
        },
        "id": "WiX5UrB1fiRj",
        "outputId": "d019f489-5ef1-4e4d-c308-a1fd817e7547"
      },
      "execution_count": null,
      "outputs": [
        {
          "output_type": "display_data",
          "data": {
            "text/plain": [
              "<Figure size 1200x600 with 1 Axes>"
            ],
            "image/png": "[encoded data removed]"
          },
          "metadata": {}
        }
      ]
    },
    {
      "cell_type": "markdown",
      "source": [
        "Visualizations include:\n",
        "\n",
        "Sentiment distribution per topic\n",
        "\n",
        "How topics trend over time\n",
        "\n",
        "These insights help identify key customer concerns and how they evolve.\n",
        "\n"
      ],
      "metadata": {
        "id": "smnH75uzhtSw"
      }
    },
    {
      "cell_type": "markdown",
      "source": [
        "#Evaluation & Final Notes"
      ],
      "metadata": {
        "id": "DXgOAOutfnS0"
      }
    },
    {
      "cell_type": "markdown",
      "source": [
        "Although this pipeline offers a good beginning, take into account:\n",
        "\n",
        "Assessing LDA topic coherence scores\n",
        "\n",
        "Examining topic and sentiment label samples by hand\n",
        "\n",
        "Trying out various numbers of subjects or sophisticated models\n",
        "\n",
        "For increased accuracy, use domain-specific sentiment models."
      ],
      "metadata": {
        "id": "6WymfLnXhwbC"
      }
    },
    {
      "cell_type": "code",
      "source": [
        "# For production use:\n",
        "# - Evaluate topic coherence (using gensim's CoherenceModel)\n",
        "# - Manual inspection of topics and sentiments\n",
        "# - Possible improvements: hyperparameter tuning, more advanced models\n",
        "\n",
        "print(\"\\nPipeline complete. Please consider manual validation and further evaluation steps.\")"
      ],
      "metadata": {
        "colab": {
          "base_uri": "https://localhost:8080/"
        },
        "id": "TmAwqJz4fnya",
        "outputId": "40d4ead4-394f-4662-a5bc-033685962c4a"
      },
      "execution_count": null,
      "outputs": [
        {
          "output_type": "stream",
          "name": "stdout",
          "text": [
            "\n",
            "Pipeline complete. Please consider manual validation and further evaluation steps.\n"
          ]
        }
      ]
    }
  ]
}